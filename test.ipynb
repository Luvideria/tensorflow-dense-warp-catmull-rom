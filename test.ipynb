{
 "cells": [
  {
   "cell_type": "code",
   "execution_count": null,
   "id": "df84cd66",
   "metadata": {
    "ExecuteTime": {
     "end_time": "2022-06-29T12:06:06.163012Z",
     "start_time": "2022-06-29T12:06:05.904140Z"
    }
   },
   "outputs": [],
   "source": [
    "import tensorflow as tf\n",
    "print(\"tensorflow version \" + str(tf.__version__)) # tested on 2.4.1\n",
    "import tensorflow_addons as tfa\n",
    "print(\"tensorflow-addons version \" + str(tfa.__version__))\n",
    "from tensorboard import notebook\n",
    "%load_ext tensorboard\n",
    "\n",
    "from datetime import datetime\n",
    "import numpy as np\n",
    "#from neuraltaa.dense_image_warp_seqtest import *\n",
    "from dense_image_warp import *\n",
    "\n",
    "import matplotlib.pyplot as plt\n",
    "plt.style.use(\"dark_background\")\n"
   ]
  },
  {
   "cell_type": "code",
   "execution_count": null,
   "id": "a12a01ce",
   "metadata": {
    "ExecuteTime": {
     "end_time": "2022-06-29T12:06:07.711663Z",
     "start_time": "2022-06-29T12:06:07.018662Z"
    }
   },
   "outputs": [],
   "source": [
    "w=128\n",
    "h=128\n",
    "scale = 10\n",
    "batch_size=8*4\n",
    "imgs=tf.random.poisson((batch_size,w,h,3),lam=0.5)"
   ]
  },
  {
   "cell_type": "code",
   "execution_count": null,
   "id": "44370c49",
   "metadata": {},
   "outputs": [],
   "source": []
  },
  {
   "cell_type": "code",
   "execution_count": null,
   "id": "c02163c3",
   "metadata": {
    "ExecuteTime": {
     "end_time": "2022-06-29T12:06:08.620157Z",
     "start_time": "2022-06-29T12:06:08.575747Z"
    }
   },
   "outputs": [],
   "source": [
    "### zooms on the top left corner ###\n",
    "\n",
    "x = tf.linspace(0.0,1.0/scale*(w-1),w)\n",
    "y = tf.linspace(0.0,1.0/scale*(h-1),h)\n",
    "grid_x, grid_y= tf.meshgrid(x,y)\n",
    "stacked_grid = tf.cast(tf.stack([grid_y, grid_x], axis=2), float)\n",
    "batched_grid = tf.broadcast_to(stacked_grid,(batch_size,)+stacked_grid.shape)\n",
    "query_points_on_grid = batched_grid\n",
    "print(tf.shape(batched_grid))\n",
    "query_points_flattened = tf.reshape(\n",
    "    query_points_on_grid, [batch_size, h * w, 2]\n",
    ")\n",
    "print(tf.shape(query_points_flattened))"
   ]
  },
  {
   "cell_type": "code",
   "execution_count": null,
   "id": "97571454",
   "metadata": {
    "ExecuteTime": {
     "end_time": "2022-06-29T12:06:09.647073Z",
     "start_time": "2022-06-29T12:06:09.355028Z"
    }
   },
   "outputs": [],
   "source": [
    "# Catmull\n",
    "tf.profiler.experimental.start('logtest/catmull')\n",
    "res=interpolate_catmull_rom(imgs,query_points_flattened)\n",
    "tf.profiler.experimental.stop()"
   ]
  },
  {
   "cell_type": "code",
   "execution_count": null,
   "id": "0737c9c2",
   "metadata": {
    "ExecuteTime": {
     "end_time": "2022-06-29T12:06:10.797349Z",
     "start_time": "2022-06-29T12:06:10.141881Z"
    }
   },
   "outputs": [],
   "source": [
    "# Bilinear\n",
    "tf.profiler.experimental.start('logtest/bilin')\n",
    "res2=interpolate_bilinear(imgs,query_points_flattened)\n",
    "tf.profiler.experimental.stop()"
   ]
  },
  {
   "cell_type": "code",
   "execution_count": null,
   "id": "73233851",
   "metadata": {
    "ExecuteTime": {
     "end_time": "2022-06-29T12:06:11.015665Z",
     "start_time": "2022-06-29T12:06:11.007522Z"
    }
   },
   "outputs": [],
   "source": [
    "print(np.shape(res))\n",
    "print(np.shape(res2))"
   ]
  },
  {
   "cell_type": "code",
   "execution_count": null,
   "id": "6c706c65",
   "metadata": {
    "ExecuteTime": {
     "end_time": "2022-06-29T12:07:38.930508Z",
     "start_time": "2022-06-29T12:07:38.579819Z"
    },
    "scrolled": false
   },
   "outputs": [],
   "source": [
    "res=tf.reshape(res, [batch_size, h, w, 3])\n",
    "res2=tf.reshape(res2, [batch_size, h, w, 3])\n",
    "plt.imshow(imgs[0])\n",
    "plt.figure()\n",
    "\n",
    "fig, axs = plt.subplots(1,2,figsize=(13,7))\n",
    "fig.suptitle('left: Catmull-Rom, right: bilinear\\nZoom x'+str(scale), fontsize=35)\n",
    "axs[0].imshow(res[0])\n",
    "axs[1].imshow(res2[0])\n"
   ]
  },
  {
   "cell_type": "markdown",
   "id": "4d4d03ea",
   "metadata": {
    "ExecuteTime": {
     "end_time": "2022-06-29T11:55:44.266515Z",
     "start_time": "2022-06-29T11:55:44.260483Z"
    }
   },
   "source": [
    "notice the cross like behavior of bilinear interpolation,\n",
    "this artifact can be problematic to network training or create artifacts in fourier reconstructions"
   ]
  },
  {
   "cell_type": "code",
   "execution_count": null,
   "id": "a71da432",
   "metadata": {
    "ExecuteTime": {
     "end_time": "2022-06-29T11:55:44.270542Z",
     "start_time": "2022-06-29T11:55:44.267585Z"
    }
   },
   "outputs": [],
   "source": []
  }
 ],
 "metadata": {
  "kernelspec": {
   "display_name": "Python 3 (ipykernel)",
   "language": "python",
   "name": "python3"
  },
  "language_info": {
   "codemirror_mode": {
    "name": "ipython",
    "version": 3
   },
   "file_extension": ".py",
   "mimetype": "text/x-python",
   "name": "python",
   "nbconvert_exporter": "python",
   "pygments_lexer": "ipython3",
   "version": "3.9.7"
  },
  "varInspector": {
   "cols": {
    "lenName": 16,
    "lenType": 16,
    "lenVar": 40
   },
   "kernels_config": {
    "python": {
     "delete_cmd_postfix": "",
     "delete_cmd_prefix": "del ",
     "library": "var_list.py",
     "varRefreshCmd": "print(var_dic_list())"
    },
    "r": {
     "delete_cmd_postfix": ") ",
     "delete_cmd_prefix": "rm(",
     "library": "var_list.r",
     "varRefreshCmd": "cat(var_dic_list()) "
    }
   },
   "position": {
    "height": "144.85px",
    "left": "1011.87px",
    "right": "20px",
    "top": "28px",
    "width": "350px"
   },
   "types_to_exclude": [
    "module",
    "function",
    "builtin_function_or_method",
    "instance",
    "_Feature"
   ],
   "window_display": true
  }
 },
 "nbformat": 4,
 "nbformat_minor": 5
}
